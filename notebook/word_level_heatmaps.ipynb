{
 "cells": [
  {
   "cell_type": "code",
   "execution_count": 1,
   "id": "fantastic-italic",
   "metadata": {},
   "outputs": [],
   "source": [
    "from bvpr.visualization import LanguageFiltersDemo as Demo"
   ]
  },
  {
   "cell_type": "code",
   "execution_count": 2,
   "id": "thrown-highland",
   "metadata": {},
   "outputs": [],
   "source": [
    "DATASET = \"unc\"\n",
    "DATA_PATH = \"~/data/refexp/data\"\n",
    "CHECKPOINT_PATH = \"~/model.ckpt\"\n",
    "DEVICE = \"cuda:0\"\n",
    "THRESHOLD = 0.40\n",
    "\n",
    "demo = Demo(\n",
    "    checkpoint_path=CHECKPOINT_PATH,\n",
    "    threshold=THRESHOLD,\n",
    "    data_path=DATA_PATH,\n",
    "    dataset=DATASET,\n",
    "    device=DEVICE\n",
    ")"
   ]
  },
  {
   "cell_type": "code",
   "execution_count": 41,
   "id": "early-underwear",
   "metadata": {},
   "outputs": [
    {
     "data": {
      "image/png": "[encoded data removed]",
      "text/plain": [
       "<Figure size 1080x360 with 6 Axes>"
      ]
     },
     "metadata": {
      "needs_background": "light"
     },
     "output_type": "display_data"
    },
    {
     "name": "stdout",
     "output_type": "stream",
     "text": [
      "phrase: second bag from the right\n"
     ]
    }
   ],
   "source": [
    "EXAMPLE_ID = 1\n",
    "DATASPLIT_ID = 1\n",
    "PHRASE = \"second bag from the right\"\n",
    "\n",
    "demo.visualize(example_id=EXAMPLE_ID, custom_phrase=PHRASE, datasplit_id=DATASPLIT_ID, method=\"remove\")"
   ]
  },
  {
   "cell_type": "code",
   "execution_count": 42,
   "id": "previous-warrant",
   "metadata": {},
   "outputs": [
    {
     "ename": "NameError",
     "evalue": "name 'asdfa' is not defined",
     "output_type": "error",
     "traceback": [
      "\u001b[0;31m---------------------------------------------------------------------------\u001b[0m",
      "\u001b[0;31mNameError\u001b[0m                                 Traceback (most recent call last)",
      "\u001b[0;32m<ipython-input-42-df3a833dcf9a>\u001b[0m in \u001b[0;36m<module>\u001b[0;34m\u001b[0m\n\u001b[0;32m----> 1\u001b[0;31m \u001b[0masdfa\u001b[0m\u001b[0;34m\u001b[0m\u001b[0;34m\u001b[0m\u001b[0m\n\u001b[0m",
      "\u001b[0;31mNameError\u001b[0m: name 'asdfa' is not defined"
     ]
    }
   ],
   "source": [
    "asdfa"
   ]
  },
  {
   "cell_type": "code",
   "execution_count": null,
   "id": "eligible-pixel",
   "metadata": {},
   "outputs": [],
   "source": []
  }
 ],
 "metadata": {
  "@webio": {
   "lastCommId": null,
   "lastKernelId": null
  },
  "kernelspec": {
   "display_name": "Python 3",
   "language": "python",
   "name": "python3"
  },
  "language_info": {
   "codemirror_mode": {
    "name": "ipython",
    "version": 3
   },
   "file_extension": ".py",
   "mimetype": "text/x-python",
   "name": "python",
   "nbconvert_exporter": "python",
   "pygments_lexer": "ipython3",
   "version": "3.8.5"
  }
 },
 "nbformat": 4,
 "nbformat_minor": 5
}
