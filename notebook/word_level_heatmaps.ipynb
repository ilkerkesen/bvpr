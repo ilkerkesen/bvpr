{
 "cells": [
  {
   "cell_type": "code",
   "execution_count": 1,
   "id": "fantastic-italic",
   "metadata": {},
   "outputs": [],
   "source": [
    "from bvpr.visualization import LanguageFiltersDemo as Demo"
   ]
  },
  {
   "cell_type": "code",
   "execution_count": 2,
   "id": "thrown-highland",
   "metadata": {},
   "outputs": [],
   "source": [
    "DATASET = \"unc\"\n",
    "DATA_PATH = \"~/data/refexp/data\"\n",
    "CHECKPOINT_PATH = \"~/model.ckpt\"\n",
    "DEVICE = \"cuda:0\"\n",
    "THRESHOLD = 0.40\n",
    "\n",
    "demo = Demo(\n",
    "    checkpoint_path=CHECKPOINT_PATH,\n",
    "    threshold=THRESHOLD,\n",
    "    data_path=DATA_PATH,\n",
    "    dataset=DATASET,\n",
    "    device=DEVICE\n",
    ")"
   ]
  },
  {
   "cell_type": "code",
   "execution_count": 3,
   "id": "early-underwear",
   "metadata": {},
   "outputs": [
    {
     "data": {
      "image/png": "[encoded data removed]",
      "text/plain": [
       "<Figure size 1080x360 with 6 Axes>"
      ]
     },
     "metadata": {
      "needs_background": "light"
     },
     "output_type": "display_data"
    },
    {
     "name": "stdout",
     "output_type": "stream",
     "text": [
      "phrase: person on the left with red hat\n"
     ]
    }
   ],
   "source": [
    "EXAMPLE_ID = 1\n",
    "DATASPLIT_ID = 1\n",
    "PHRASE = \"person on the left with red hat\"\n",
    "\n",
    "demo.visualize(example_id=EXAMPLE_ID, custom_phrase=PHRASE, datasplit_id=DATASPLIT_ID, method=\"remove\")"
   ]
  },
  {
   "cell_type": "code",
   "execution_count": null,
   "id": "sweet-accountability",
   "metadata": {},
   "outputs": [],
   "source": []
  }
 ],
 "metadata": {
  "@webio": {
   "lastCommId": null,
   "lastKernelId": null
  },
  "kernelspec": {
   "display_name": "Python 3",
   "language": "python",
   "name": "python3"
  },
  "language_info": {
   "codemirror_mode": {
    "name": "ipython",
    "version": 3
   },
   "file_extension": ".py",
   "mimetype": "text/x-python",
   "name": "python",
   "nbconvert_exporter": "python",
   "pygments_lexer": "ipython3",
   "version": "3.8.5"
  }
 },
 "nbformat": 4,
 "nbformat_minor": 5
}
